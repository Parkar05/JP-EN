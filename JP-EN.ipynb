{
 "cells": [
  {
   "cell_type": "code",
   "execution_count": null,
   "id": "72a8066d",
   "metadata": {},
   "outputs": [],
   "source": [
    "import torchaudio\n",
    "from transformers import Wav2Vec2ForCTC, Wav2Vec2Tokenizer\n",
    "import torch"
   ]
  },
  {
   "cell_type": "code",
   "execution_count": null,
   "id": "d9a3e3d8",
   "metadata": {},
   "outputs": [],
   "source": [
    "pip install transformers torch\n",
    "pip install transformers torch torchaudio\n",
    "pip install gTTS\n",
    "pip install SpeechRecognition\n"
   ]
  },
  {
   "cell_type": "markdown",
   "id": "114ed1b2",
   "metadata": {},
   "source": [
    "## Audio to JP"
   ]
  },
  {
   "cell_type": "code",
   "execution_count": null,
   "id": "55aa0f1a",
   "metadata": {},
   "outputs": [],
   "source": [
    "import speech_recognition as sr\n",
    "\n",
    "recognizer = sr.Recognizer()\n",
    "\n",
    "audio_file = \"/content/jp.wav\" \n",
    "\n",
    "with sr.AudioFile(audio_file) as source:\n",
    "    audio_data = recognizer.record(source)  \n",
    "\n",
    "try:\n",
    "    japanese_text = recognizer.recognize_google(audio_data, language=\"ja-JP\")\n",
    "    print(\"Japanese Text:\", japanese_text)\n",
    "except sr.UnknownValueError:\n",
    "    print(\"Google Speech Recognition could not understand the audio\")\n",
    "except sr.RequestError as e:\n",
    "    print(\"Could not request results from Google Speech Recognition service; {0}\".format(e))"
   ]
  },
  {
   "cell_type": "raw",
   "id": "9af20806",
   "metadata": {},
   "source": [
    "Japanese Text: だから エレクトロンでございます あ もしもし先ほど電話させていただいたメタニクス 代理の進藤と申しますけども世話になっております はい お世話になっております ちょっと先ほどの件なんですが 担当者が えっと 萩尾様のメールアドレスをもう知っている そうなんですけどメールでご案内させていただくことって可能ですか ねこちらからメールアドレスの開示ができないようで してあ 担当のものがもう 萩尾様のメールアドレスを知っているので ちょっとメールであのご案内 送らせていただいてもよろしいですか そうしましたら あの 直接やりとりいただければと思いますが はいあわかりました ありがとうございますはい 恐れ入ります よろしくお願いいたします はい ありがとうございます 失礼いたします はい 失礼いたします"
   ]
  },
  {
   "cell_type": "raw",
   "id": "0c8d0e9e",
   "metadata": {},
   "source": [
    "Google translation : So this is Electron. Uh, hello. This is Metanix's representative, Mr. Shindo, who called earlier. Thank you for your help. Yes, thank you for your help. About the matter earlier, the person in charge already knows Mr. Hagio's email address. So, is it possible to send guidance via email? It seems that we cannot disclose the email address from here, but since the person in charge already knows Mr. Hagio's email address, is it alright if we send the guidance via email? If so, I think it would be better to have direct communication. Yes, I understand. Thank you very much. Yes, I appreciate it. Thank you. Excuse me. Yes, excuse me."
   ]
  },
  {
   "cell_type": "markdown",
   "id": "8c869ff6",
   "metadata": {},
   "source": [
    "## Using google translator to convert jp text\n"
   ]
  },
  {
   "cell_type": "code",
   "execution_count": null,
   "id": "edafa004",
   "metadata": {},
   "outputs": [],
   "source": [
    "pip install googletrans==4.0.0-rc1\n"
   ]
  },
  {
   "cell_type": "code",
   "execution_count": null,
   "id": "c7465d01",
   "metadata": {},
   "outputs": [],
   "source": [
    "from googletrans import Translator\n",
    "\n",
    "translator = Translator()\n",
    "\n",
    "japanese_text = (\"だから エレクトロンでございます あ もしもし先ほど電話させていただいたメタニクス 代理の進藤と申しますけども世話になっております はい お世話になっております ちょっと先ほどの件なんですが 担当者が えっと 萩尾様のメールアドレスをもう知っている そうなんですけどメールでご案内させていただくことって可能ですか ねこちらからメールアドレスの開示ができないようで してあ 担当のものがもう 萩尾様のメールアドレスを知っているので ちょっとメールであのご案内 送らせていただいてもよろしいですか そうしましたら あの 直接やりとりいただければと思いますが はいあわかりました ありがとうございますはい 恐れ入ります よろしくお願いいたします はい ありがとうございます 失礼いたします はい 失礼いたします\")\n",
    "\n",
    "translated_text = translator.translate(japanese_text, src=\"ja\", dest=\"en\")\n",
    "\n",
    "print(\"Translated Text:\", translated_text.text)"
   ]
  },
  {
   "cell_type": "markdown",
   "id": "aa457917",
   "metadata": {},
   "source": [
    "Model o/p : Translated Text: That's why it's Electron. I'm sure it's Shindo, a metanics agency that I just called, but I'm taking care of me. I'm taking care of me.You already know the address, but is it possible to guide you by e -mail? It seems that you can't disclose your email address here, and the person in charge already knows Hagio's email address.So, would you like to send you a little email? I hope you can do that directly, but I understand Thank you very much Thank you Yes.Yes I'm sorry\n"
   ]
  },
  {
   "cell_type": "markdown",
   "id": "0945e70b",
   "metadata": {},
   "source": [
    "## Converting into EN audio"
   ]
  },
  {
   "cell_type": "code",
   "execution_count": null,
   "id": "39681113",
   "metadata": {},
   "outputs": [],
   "source": [
    "\n",
    "from gtts import gTTS\n",
    "import os\n",
    "\n",
    "english_text = \"That's why it's Electron. I'm sure it's Shindo, a metanics agency that I just called, but I'm taking care of me. I'm taking care of me.You already know the address, but is it possible to guide you by e-mail? It seems that you can't disclose your email address here, and the person in charge already knows Hagio's email address.So, would you like to send you a little email? I hope you can do that directly, but I understand Thank you very much Thank you Yes.Yes I'm sorry\"\n",
    "\n",
    "tts = gTTS(text=english_text, lang='en', slow=False)\n",
    "\n",
    "tts.save(\"english_audio2.mp3\")\n",
    "\n",
    "os.system(\"mpg321 english_audio.mp3\")\n"
   ]
  },
  {
   "cell_type": "markdown",
   "id": "fddf2cf6",
   "metadata": {},
   "source": [
    "# Single code to extract JP text and converting it into EN "
   ]
  },
  {
   "cell_type": "code",
   "execution_count": null,
   "id": "f63024b4",
   "metadata": {},
   "outputs": [],
   "source": [
    "import speech_recognition as sr\n",
    "from googletrans import Translator\n",
    "\n",
    "def transcribe_audio(audio_file):\n",
    "    recognizer = sr.Recognizer()\n",
    "    with sr.AudioFile(audio_file) as source:\n",
    "        audio_data = recognizer.record(source)\n",
    "    try:\n",
    "        japanese_text = recognizer.recognize_google(audio_data, language=\"ja-JP\")\n",
    "        return japanese_text\n",
    "    except sr.UnknownValueError:\n",
    "        print(\"Google Speech Recognition could not understand the audio\")\n",
    "    except sr.RequestError as e:\n",
    "        print(f\"Could not request results from Google Speech Recognition service; {e}\")\n",
    "\n",
    "def translate_japanese_to_english(japanese_text):\n",
    "    translator = Translator()\n",
    "    translated_text = translator.translate(japanese_text, src=\"ja\", dest=\"en\")\n",
    "    return translated_text.text\n",
    "\n",
    "def evaluate_translation(original_japanese_text, translated_english_text):\n",
    "    print(\"Original Japanese Text:\")\n",
    "    print(original_japanese_text)\n",
    "    print(\"\\nTranslated English Text:\")\n",
    "    print(translated_english_text)\n",
    "\n",
    "audio_file_path = \"/content/jp.wav\"  \n",
    "japanese_text = transcribe_audio(audio_file_path)\n",
    "\n",
    "translated_english_text = translate_japanese_to_english(japanese_text)\n",
    "\n",
    "\n",
    "reference_translation = \"Your reference translation goes here\"\n",
    "\n",
    "evaluate_translation(japanese_text, translated_english_text)\n"
   ]
  },
  {
   "cell_type": "raw",
   "id": "be494e66",
   "metadata": {},
   "source": [
    "Original Japanese Text:\n",
    "だから エレクトロンでございます あ もしもし先ほど電話させていただいたメタニクス 代理の進藤と申しますけども世話になっております はい お世話になっております ちょっと先ほどの件なんですが 担当者が えっと 萩尾様のメールアドレスをもう知っている そうなんですけどメールでご案内させていただくことって可能ですか ねこちらからメールアドレスの開示ができないようで してあ 担当のものがもう 萩尾様のメールアドレスを知っているので ちょっとメールであのご案内 送らせていただいてもよろしいですか そうしましたら あの 直接やりとりいただければと思いますが はいあわかりました ありがとうございますはい 恐れ入ります よろしくお願いいたします はい ありがとうございます 失礼いたします はい 失礼いたします\n",
    "\n",
    "Translated English Text:\n",
    "That's why it's Electron. I'm sure it's Shindo, a metanics agency that I just called, but I'm taking care of me. I'm taking care of me.You already know the address, but is it possible to guide you by e -mail? It seems that you can't disclose your email address here, and the person in charge already knows Hagio's email address.So, would you like to send you a little email? I hope you can do that directly, but I understand Thank you very much Thank you Yes.Yes I'm sorry"
   ]
  },
  {
   "cell_type": "raw",
   "id": "26468409",
   "metadata": {},
   "source": [
    "pip install deep-translator\n"
   ]
  },
  {
   "cell_type": "markdown",
   "id": "eb60c748",
   "metadata": {},
   "source": [
    "## FINAL Method to get better acc in JP- EN"
   ]
  },
  {
   "cell_type": "code",
   "execution_count": null,
   "id": "44fb211e",
   "metadata": {},
   "outputs": [],
   "source": [
    "from deep_translator import GoogleTranslator\n",
    "\n",
    "translated_text = GoogleTranslator(source='ja', target='en').translate(\"だから エレクトロンでございます あ もしもし先ほど電話させていただいたメタニクス 代理の進藤と申しますけども世話になっております はい お世話になっております ちょっと先ほどの件なんですが 担当者が えっと 萩尾様のメールアドレスをもう知っている そうなんですけどメールでご案内させていただくことって可能ですか ねこちらからメールアドレスの開示ができないようで してあ 担当のものがもう 萩尾様のメールアドレスを知っているので ちょっとメールであのご案内 送らせていただいてもよろしいですか そうしましたら あの 直接やりとりいただければと思いますが はいあわかりました ありがとうございますはい 恐れ入ります よろしくお願いいたします はい ありがとうございます 失礼いたします はい 失礼いたします\")\n",
    "\n",
    "print(\"Translated Text:\", translated_text)\n"
   ]
  },
  {
   "cell_type": "raw",
   "id": "19640809",
   "metadata": {},
   "source": [
    "Translated Text: So, I'm Electron.Hello, I'm Shindo, and I'm Metanics' representative, who I called earlier, and I'm indebted to you.Yes, thank you very much for your help.As for the matter I mentioned earlier, the person in charge said, uh, Mr. Hagio's email. I see, but is it possible for me to send you an email address? It seems like we can't disclose your email address. Well, the person in charge already knows Mr. Hagio's email address. So, would you mind if I send you the information via email? If so, I would appreciate it if you could communicate with me directly. Yes, I understand. Thank you. Yes, I'm sorry. Thank you very much. Yes, thank you. Yes, excuse me"
   ]
  },
  {
   "cell_type": "markdown",
   "id": "ac16ccb1",
   "metadata": {},
   "source": [
    "## compare"
   ]
  },
  {
   "cell_type": "raw",
   "id": "83664d5a",
   "metadata": {},
   "source": [
    "Original Japanese Text from audio:\n",
    "だから エレクトロンでございます あ もしもし先ほど電話させていただいたメタニクス 代理の進藤と申しますけども世話になっております はい お世話になっております ちょっと先ほどの件なんですが 担当者が えっと 萩尾様のメールアドレスをもう知っている そうなんですけどメールでご案内させていただくことって可能ですか ねこちらからメールアドレスの開示ができないようで してあ 担当のものがもう 萩尾様のメールアドレスを知っているので ちょっとメールであのご案内 送らせていただいてもよろしいですか そうしましたら あの 直接やりとりいただければと思いますが はいあわかりました ありがとうございますはい 恐れ入ります よろしくお願いいたします はい ありがとうございます 失礼いたします はい 失礼いたします\n"
   ]
  },
  {
   "cell_type": "raw",
   "id": "04a51928",
   "metadata": {},
   "source": [
    "Google translation from google : So this is Electron. Uh, hello. This is Metanix's representative, Mr. Shindo, who called earlier. Thank you for your help. Yes, thank you for your help. About the matter earlier, the person in charge already knows Mr. Hagio's email address. So, is it possible to send guidance via email? It seems that we cannot disclose the email address from here, but since the person in charge already knows Mr. Hagio's email address, is it alright if we send the guidance via email? If so, I think it would be better to have direct communication. Yes, I understand. Thank you very much. Yes, I appreciate it. Thank you. Excuse me. Yes, excuse me."
   ]
  },
  {
   "cell_type": "raw",
   "id": "470c6893",
   "metadata": {},
   "source": [
    "Translated English Text from 1 st attempt:\n",
    "That's why it's Electron. I'm sure it's Shindo, a metanics agency that I just called, but I'm taking care of me. I'm taking care of me.You already know the address, but is it possible to guide you by e -mail? It seems that you can't disclose your email address here, and the person in charge already knows Hagio's email address.So, would you like to send you a little email? I hope you can do that directly, but I understand Thank you very much Thank you Yes.Yes I'm sorry"
   ]
  },
  {
   "cell_type": "raw",
   "id": "ed05e0a2",
   "metadata": {},
   "source": [
    "Translated English Text from 2 st attempt: So, I'm Electron.Hello, I'm Shindo, and I'm Metanics' representative, who I called earlier, and I'm indebted to you.Yes, thank you very much for your help.As for the matter I mentioned earlier, the person in charge said, uh, Mr. Hagio's email. I see, but is it possible for me to send you an email address? It seems like we can't disclose your email address. Well, the person in charge already knows Mr. Hagio's email address. So, would you mind if I send you the information via email? If so, I would appreciate it if you could communicate with me directly. Yes, I understand. Thank you. Yes, I'm sorry. Thank you very much. Yes, thank you. Yes, excuse me"
   ]
  }
 ],
 "metadata": {
  "kernelspec": {
   "display_name": "Python 3 (ipykernel)",
   "language": "python",
   "name": "python3"
  },
  "language_info": {
   "codemirror_mode": {
    "name": "ipython",
    "version": 3
   },
   "file_extension": ".py",
   "mimetype": "text/x-python",
   "name": "python",
   "nbconvert_exporter": "python",
   "pygments_lexer": "ipython3",
   "version": "3.9.13"
  },
  "varInspector": {
   "cols": {
    "lenName": 16,
    "lenType": 16,
    "lenVar": 40
   },
   "kernels_config": {
    "python": {
     "delete_cmd_postfix": "",
     "delete_cmd_prefix": "del ",
     "library": "var_list.py",
     "varRefreshCmd": "print(var_dic_list())"
    },
    "r": {
     "delete_cmd_postfix": ") ",
     "delete_cmd_prefix": "rm(",
     "library": "var_list.r",
     "varRefreshCmd": "cat(var_dic_list()) "
    }
   },
   "types_to_exclude": [
    "module",
    "function",
    "builtin_function_or_method",
    "instance",
    "_Feature"
   ],
   "window_display": false
  }
 },
 "nbformat": 4,
 "nbformat_minor": 5
}
